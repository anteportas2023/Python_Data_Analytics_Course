{
 "cells": [
  {
   "cell_type": "markdown",
   "metadata": {},
   "source": [
    " [![Open In Colab](https://colab.research.google.com/assets/colab-badge.svg)](https://colab.research.google.com/github/lukebarousse/Python_Data_Analytics_Course/blob/main/1_Basics/01_Getting_Started.ipynb)"
   ]
  },
  {
   "cell_type": "markdown",
   "metadata": {},
   "source": [
    "\n",
    "### List Comprehensions\n",
    "\n",
    "#### Notes\n",
    "\n",
    "   - A way way to create a new list (with shorter syntax) based on the values of an existing list.\n",
    "\n",
    "Not limited to only list comprehension:\n",
    "\n",
    "   - set comprehension\n",
    "   - tuple comprehension\n",
    "   - dictionary comprehension\n",
    "\n",
    "#### Importance\n",
    "\n",
    "Provide a concise way to create lists. Useful for data manipulation and filtering in pandas.\n"
   ]
  },
  {
   "cell_type": "code",
   "execution_count": 1,
   "metadata": {},
   "outputs": [
    {
     "data": {
      "text/plain": [
       "[0, 1, 2, 3, 4, 5, 6, 7, 8, 9]"
      ]
     },
     "execution_count": 1,
     "metadata": {},
     "output_type": "execute_result"
    }
   ],
   "source": [
    "# Creating a list of numbers from 0 to 9\n",
    "numbers = [x for x in range(10)]\n",
    "numbers"
   ]
  },
  {
   "cell_type": "markdown",
   "metadata": {},
   "source": [
    "\n",
    "#### Example # 1\n",
    "\n",
    "We're going to modify our example that we used in our for loop. Intsead of having the whole print statement with \"Position requires X years of experience\". We are just going to print out the experience required. This is a simplified version of our code earlier.\n"
   ]
  },
  {
   "cell_type": "code",
   "execution_count": 2,
   "metadata": {},
   "outputs": [
    {
     "name": "stdout",
     "output_type": "stream",
     "text": [
      "1\n",
      "2\n",
      "3\n"
     ]
    }
   ],
   "source": [
    "# Minimum experience required for job positions\n",
    "position_experience_requirements = [1, 2, 3]\n",
    "\n",
    "# Iterate over each experience requirement in the list of job positions\n",
    "for x in position_experience_requirements:\n",
    "    print(x)"
   ]
  },
  {
   "cell_type": "markdown",
   "metadata": {},
   "source": [
    "\n",
    "\n",
    "Now let's use list comprehension to shorten this.\n",
    "\n",
    "   - The code defines position_experience_requirements as a list of integers representing minimum years of experience required for various job positions.\n",
    "   - The for loop goes through each list item in postion_experience_requirements and prints out the requirement.\n",
    "\n"
   ]
  },
  {
   "cell_type": "code",
   "execution_count": 3,
   "metadata": {},
   "outputs": [
    {
     "data": {
      "text/plain": [
       "[1, 2, 3]"
      ]
     },
     "execution_count": 3,
     "metadata": {},
     "output_type": "execute_result"
    }
   ],
   "source": [
    "# Create a list of job positions \n",
    "experience = [x for x in position_experience_requirements]\n",
    "\n",
    "# The result will be a list of job positions \n",
    "experience"
   ]
  },
  {
   "cell_type": "markdown",
   "metadata": {},
   "source": [
    "This is pretty basic. So let's make it a bit more useful. I'm going to add in a variable that stores the user's years of experience."
   ]
  },
  {
   "cell_type": "code",
   "execution_count": 4,
   "metadata": {},
   "outputs": [
    {
     "data": {
      "text/plain": [
       "2"
      ]
     },
     "execution_count": 4,
     "metadata": {},
     "output_type": "execute_result"
    }
   ],
   "source": [
    "user_experience = 2\n",
    "user_experience"
   ]
  },
  {
   "cell_type": "markdown",
   "metadata": {},
   "source": [
    "\n",
    "\n",
    "Now, we are adding an if condition to our list comprehension. This condition checks if the user's experience (user_experience) is greater than or equal to each item (x) in the position_experience_requirements list.\n",
    "\n",
    "```python\n",
    "if user_experience >= x\n",
    "```\n",
    "\n",
    "It returns only the jobs where the requirement is met or is lower than the user's experience.\n"
   ]
  },
  {
   "cell_type": "code",
   "execution_count": 5,
   "metadata": {},
   "outputs": [
    {
     "data": {
      "text/plain": [
       "[1, 2]"
      ]
     },
     "execution_count": 5,
     "metadata": {},
     "output_type": "execute_result"
    }
   ],
   "source": [
    "# Create a list of job positions for which the user is qualified\n",
    "    \n",
    "qualified_positions= [x for x in position_experience_requirements if user_experience>= x]\n",
    "\n",
    "qualified_positions"
   ]
  },
  {
   "cell_type": "markdown",
   "metadata": {},
   "source": [
    "\n",
    "#### Example # 2\n",
    "\n",
    "This first code block extracts the data we need for this exercise; we'll dive into this later in the course.\n",
    "\n",
    "For now just understand I'm extracting the list of job_titles form our dataset.\n"
   ]
  },
  {
   "cell_type": "code",
   "execution_count": 6,
   "metadata": {},
   "outputs": [],
   "source": [
    "from datasets import load_dataset\n",
    "\n",
    "# Load the dataset\n",
    "dataset = load_dataset('lukebarousse/data_jobs')\n",
    "df = dataset['train'].to_pandas()\n",
    "\n",
    "# Create a list of job titles from the dataset\n",
    "job_list = df['job_title'].tolist()\n",
    "\n",
    "# Remove any non-string values from the list\n",
    "job_list = [job for job in job_list if isinstance(job, str)]"
   ]
  },
  {
   "cell_type": "markdown",
   "metadata": {},
   "source": [
    "Let's modify our previous for loop into a list comp!"
   ]
  },
  {
   "cell_type": "code",
   "execution_count": 7,
   "metadata": {},
   "outputs": [
    {
     "data": {
      "text/plain": [
       "['Data Analyst',\n",
       " 'Stagiaire Data Analyst (H/F) - Lyon (69006)',\n",
       " 'Data Analyst',\n",
       " 'Senior Officer, Data Analyst, GTO',\n",
       " 'Stage - Data Analyst F/H',\n",
       " 'Data Analyst als Marketing Manager Automation (W/D/M)',\n",
       " 'Data Analyst',\n",
       " 'Senior Data Analyst',\n",
       " 'Data Analyst (Bangkok Based, relocation provided)',\n",
       " 'Senior Data Analyst']"
      ]
     },
     "execution_count": 7,
     "metadata": {},
     "output_type": "execute_result"
    }
   ],
   "source": [
    "# previous for loop\n",
    "analyst_list = []\n",
    "\n",
    "for job in job_list:\n",
    "  if \"Data Analyst\" in job:\n",
    "    analyst_list.append(job)\n",
    "\n",
    "# show first 10 values\n",
    "analyst_list[:10]"
   ]
  },
  {
   "cell_type": "markdown",
   "metadata": {},
   "source": [
    "\n",
    "\n",
    "However that was 4 lines of code!\n",
    "\n",
    "With list comprehension we can do it in only 1.\n"
   ]
  },
  {
   "cell_type": "code",
   "execution_count": 8,
   "metadata": {},
   "outputs": [
    {
     "data": {
      "text/plain": [
       "['Data Analyst',\n",
       " 'Stagiaire Data Analyst (H/F) - Lyon (69006)',\n",
       " 'Data Analyst',\n",
       " 'Senior Officer, Data Analyst, GTO',\n",
       " 'Stage - Data Analyst F/H',\n",
       " 'Data Analyst als Marketing Manager Automation (W/D/M)',\n",
       " 'Data Analyst',\n",
       " 'Senior Data Analyst',\n",
       " 'Data Analyst (Bangkok Based, relocation provided)',\n",
       " 'Senior Data Analyst']"
      ]
     },
     "execution_count": 8,
     "metadata": {},
     "output_type": "execute_result"
    }
   ],
   "source": [
    "analyst_list = [job for job in job_list if \"Data Analyst\" in job]\n",
    "\n",
    "# show first 10 values\n",
    "analyst_list[:10]"
   ]
  },
  {
   "cell_type": "code",
   "execution_count": 9,
   "metadata": {},
   "outputs": [
    {
     "name": "stdout",
     "output_type": "stream",
     "text": [
      "Job list is:      785740 jobs\n",
      "Analyst list is:  162708 jobs\n"
     ]
    }
   ],
   "source": [
    "print(\"Job list is:     \" , len(job_list), \"jobs\")\n",
    "print(\"Analyst list is: \", len(analyst_list), \"jobs\")"
   ]
  }
 ],
 "metadata": {
  "kernelspec": {
   "display_name": "python_course",
   "language": "python",
   "name": "python3"
  },
  "language_info": {
   "codemirror_mode": {
    "name": "ipython",
    "version": 3
   },
   "file_extension": ".py",
   "mimetype": "text/x-python",
   "name": "python",
   "nbconvert_exporter": "python",
   "pygments_lexer": "ipython3",
   "version": "3.11.9"
  }
 },
 "nbformat": 4,
 "nbformat_minor": 2
}
