{
 "cells": [
  {
   "cell_type": "markdown",
   "metadata": {},
   "source": [
    " [![Open In Colab](https://colab.research.google.com/assets/colab-badge.svg)](https://colab.research.google.com/github/lukebarousse/Python_Data_Analytics_Course/blob/main/1_Basics/01_Getting_Started.ipynb)"
   ]
  },
  {
   "cell_type": "markdown",
   "metadata": {},
   "source": [
    "# NumPy\n",
    "\n",
    "## Notes\n",
    "\n",
    "* **NumPy**, which stands for **Numerical Python**, is foundational for numerical computing in Python.\n",
    "* Designed for scientific computation and is used extensively for data analysis because of its ability to handle large, multi-dimensional arrays and matrices efficiently.\n",
    "* Serves as the basis for many other Python data science libraries, including Pandas, due to its speed and efficiency in numerical computations.\n",
    "* Special use cases for NumPy specifically for data analysis:\n",
    "    * Array operations\n",
    "    * Linear algebra\n",
    "    * Statistical functions\n",
    "    * Random number generation\n",
    "\n",
    "## Importance \n",
    "\n",
    "* Important for data analysis.\n",
    "* Provides a way to store data in a structured format, making it easier to organize, access, and manipulate data.\n",
    "* The Pandas library is built on top of NumPy.\n",
    "\n",
    "For more information on NumPy, check out the official documentation [here](https://numpy.org/doc/1.26/).\n",
    "\n",
    "## Array Operations\n",
    "\n",
    "### Notes\n",
    "\n",
    "* **Creation**: `import numpy as np; np.array([1, 2, 3])`\n",
    "* **Basic Operations**: `+`, `-`, `/`, `*` performed element-wise\n",
    "* **Slicing**: `array[1:3]`\n",
    "* **Boolean Indexing**: `array[array > 0]`\n",
    "\n",
    "### Examples\n",
    "\n",
    "Let's start with creating a fictional array with the number of years of experience required for five different data science job listings.\n",
    "\n",
    "### Create an Array\n",
    "\n",
    "\n"
   ]
  },
  {
   "cell_type": "code",
   "execution_count": 1,
   "metadata": {},
   "outputs": [
    {
     "name": "stdout",
     "output_type": "stream",
     "text": [
      "Collecting package metadata (current_repodata.json): ...working... done\n",
      "Solving environment: ...working... done\n",
      "\n",
      "# All requested packages already installed.\n",
      "\n"
     ]
    },
    {
     "name": "stderr",
     "output_type": "stream",
     "text": [
      "\n",
      "\n",
      "==> WARNING: A newer version of conda exists. <==\n",
      "  current version: 23.3.1\n",
      "  latest version: 24.5.0\n",
      "\n",
      "Please update conda by running\n",
      "\n",
      "    $ conda update -n base -c defaults conda\n",
      "\n",
      "Or to minimize the number of packages updated during conda update use\n",
      "\n",
      "     conda install conda=24.5.0\n",
      "\n",
      "\n"
     ]
    }
   ],
   "source": [
    "# Install package\n",
    "!conda install numpy"
   ]
  },
  {
   "cell_type": "code",
   "execution_count": 2,
   "metadata": {},
   "outputs": [],
   "source": [
    "# Import Package\n",
    "import numpy as np"
   ]
  },
  {
   "cell_type": "code",
   "execution_count": 3,
   "metadata": {},
   "outputs": [],
   "source": [
    "# Example: An array representing the number of years of experience required for three different data science job listings.\n",
    "years_of_experience = np.array([1, 2, 3, 4, 5])"
   ]
  },
  {
   "cell_type": "markdown",
   "metadata": {},
   "source": [
    "\n",
    "#### Basic Operations\n",
    "\n",
    "Applying mathematics operations to the entire array.\n",
    "\n",
    "#### Addition\n",
    "\n",
    "Adding 1 year to the experience requirements for each job listing.\n"
   ]
  },
  {
   "cell_type": "code",
   "execution_count": 4,
   "metadata": {},
   "outputs": [
    {
     "data": {
      "text/plain": [
       "array([2, 3, 4, 5, 6])"
      ]
     },
     "execution_count": 4,
     "metadata": {},
     "output_type": "execute_result"
    }
   ],
   "source": [
    "years_of_experience_plus_one = years_of_experience + 1\n",
    "years_of_experience_plus_one"
   ]
  },
  {
   "cell_type": "markdown",
   "metadata": {},
   "source": [
    "\n",
    "#### Subtraction\n",
    "\n",
    "Subtracting 1 year from the experience requirements for each job listing.\n"
   ]
  },
  {
   "cell_type": "code",
   "execution_count": 5,
   "metadata": {},
   "outputs": [
    {
     "data": {
      "text/plain": [
       "array([0, 1, 2, 3, 4])"
      ]
     },
     "execution_count": 5,
     "metadata": {},
     "output_type": "execute_result"
    }
   ],
   "source": [
    "years_of_experience_minus_one = years_of_experience - 1\n",
    "years_of_experience_minus_one"
   ]
  },
  {
   "cell_type": "markdown",
   "metadata": {},
   "source": [
    "\n",
    "#### Division\n",
    "\n",
    "Dividing the experience requirements by 2 (maybe for a junior role).\n"
   ]
  },
  {
   "cell_type": "code",
   "execution_count": 6,
   "metadata": {},
   "outputs": [
    {
     "data": {
      "text/plain": [
       "array([0.5, 1. , 1.5, 2. , 2.5])"
      ]
     },
     "execution_count": 6,
     "metadata": {},
     "output_type": "execute_result"
    }
   ],
   "source": [
    "years_of_experience_half = years_of_experience / 2\n",
    "years_of_experience_half"
   ]
  },
  {
   "cell_type": "markdown",
   "metadata": {},
   "source": [
    "\n",
    "#### Multiplication\n",
    "\n",
    "Doubling the experience requirements for each job listing.\n"
   ]
  },
  {
   "cell_type": "code",
   "execution_count": 7,
   "metadata": {},
   "outputs": [
    {
     "data": {
      "text/plain": [
       "array([ 2,  4,  6,  8, 10])"
      ]
     },
     "execution_count": 7,
     "metadata": {},
     "output_type": "execute_result"
    }
   ],
   "source": [
    "years_of_experience_double = years_of_experience * 2\n",
    "years_of_experience_double"
   ]
  },
  {
   "cell_type": "markdown",
   "metadata": {},
   "source": [
    "\n",
    "#### Slicing\n",
    "\n",
    "Get subset of information from the array. Let's get the experience requirements for the second and third job postings.\n"
   ]
  },
  {
   "cell_type": "code",
   "execution_count": 8,
   "metadata": {},
   "outputs": [
    {
     "data": {
      "text/plain": [
       "array([2, 3])"
      ]
     },
     "execution_count": 8,
     "metadata": {},
     "output_type": "execute_result"
    }
   ],
   "source": [
    "# Example: Selecting the experience requirement for the second and third job listings.\n",
    "second_and_third_jobs_experience = years_of_experience[1:3]\n",
    "second_and_third_jobs_experience"
   ]
  },
  {
   "cell_type": "markdown",
   "metadata": {},
   "source": [
    "\n",
    "#### Boolean Indexing\n",
    "\n",
    "Get items from the array that meet a specific condition. For this get only the job postings that require more than 2 years of experience.\n"
   ]
  },
  {
   "cell_type": "code",
   "execution_count": 9,
   "metadata": {},
   "outputs": [
    {
     "data": {
      "text/plain": [
       "array([3, 4, 5])"
      ]
     },
     "execution_count": 9,
     "metadata": {},
     "output_type": "execute_result"
    }
   ],
   "source": [
    "# Example: Selecting only those job listings that require more than 1 year of experience.\n",
    "jobs_with_more_than_one_year_exp = years_of_experience[years_of_experience > 2]\n",
    "jobs_with_more_than_one_year_exp"
   ]
  },
  {
   "cell_type": "markdown",
   "metadata": {},
   "source": [
    "\n",
    "### Math Operations\n",
    "\n",
    "#### Notes\n",
    "\n",
    "   - Aggregate functions:\n",
    "       - sum: sum\n",
    "       - prod: product\n",
    "       - cumsum: cumulative sum\n",
    "       - cumprod: cumulative product\n",
    "   - Mathematical operations (we won't be going into this during the course):\n",
    "       - sqrt\n",
    "       - exp\n",
    "       - log\n",
    "       - sin\n",
    "       - cos\n",
    "\n",
    "#### Examples\n",
    "\n",
    "First lets create a list with 10 yearly salaries for a Senior Data Analyst job. We're just using a combination of the random library to get random integers between 100000 and 150000. Then using a for loop to get 10 (random) values.\n"
   ]
  },
  {
   "cell_type": "code",
   "execution_count": 10,
   "metadata": {},
   "outputs": [],
   "source": [
    "import random \n",
    "\n",
    "salary = [random.randint(100000, 150000) for num in range(10)]"
   ]
  },
  {
   "cell_type": "code",
   "execution_count": 11,
   "metadata": {},
   "outputs": [
    {
     "data": {
      "text/plain": [
       "[112386,\n",
       " 137144,\n",
       " 128459,\n",
       " 132909,\n",
       " 133059,\n",
       " 132065,\n",
       " 127026,\n",
       " 140298,\n",
       " 104809,\n",
       " 125046]"
      ]
     },
     "execution_count": 11,
     "metadata": {},
     "output_type": "execute_result"
    }
   ],
   "source": [
    "salary"
   ]
  },
  {
   "cell_type": "markdown",
   "metadata": {},
   "source": [
    "Now we'll convert this list into a NumPy array."
   ]
  },
  {
   "cell_type": "code",
   "execution_count": 12,
   "metadata": {},
   "outputs": [
    {
     "data": {
      "text/plain": [
       "array([112386, 137144, 128459, 132909, 133059, 132065, 127026, 140298,\n",
       "       104809, 125046])"
      ]
     },
     "execution_count": 12,
     "metadata": {},
     "output_type": "execute_result"
    }
   ],
   "source": [
    "salary_array = np.array(salary)\n",
    "salary_array"
   ]
  },
  {
   "cell_type": "markdown",
   "metadata": {},
   "source": [
    "\n",
    "#### Sum\n",
    "\n",
    "Calculate the total sum of the elements in the salary_array.\n"
   ]
  },
  {
   "cell_type": "code",
   "execution_count": 13,
   "metadata": {},
   "outputs": [
    {
     "data": {
      "text/plain": [
       "1273201"
      ]
     },
     "execution_count": 13,
     "metadata": {},
     "output_type": "execute_result"
    }
   ],
   "source": [
    "total_sum_salaries = np.sum(salary_array)\n",
    "total_sum_salaries"
   ]
  },
  {
   "cell_type": "markdown",
   "metadata": {},
   "source": [
    "\n",
    "#### Prod\n",
    "\n",
    "Calculate the product of the elements in the salary_array.\n"
   ]
  },
  {
   "cell_type": "code",
   "execution_count": 14,
   "metadata": {},
   "outputs": [
    {
     "data": {
      "text/plain": [
       "2015610496"
      ]
     },
     "execution_count": 14,
     "metadata": {},
     "output_type": "execute_result"
    }
   ],
   "source": [
    "# This is a conceptual example since taking the product of a boolean series isn't common\n",
    "product_salaries = np.prod(salary_array)\n",
    "product_salaries"
   ]
  },
  {
   "cell_type": "markdown",
   "metadata": {},
   "source": [
    "\n",
    "#### Cumsum (Cumulative Sum)\n",
    "\n",
    "Calculates the cumulative sum of elements of the salary_array. It calculates the cumulative sum at each index, meaning each element in the output array is the sum of all preceding elements including the current one from the original array.\n",
    "\n",
    "For the salary_array:\n",
    "\n",
    "   - First element of cumsum is 110003 (just the first element)\n",
    "   - Second element is 110003 + 133394 = 243397\n",
    "   - Third element is 243397 + 148741 = 392138\n",
    "   - And so on...\n",
    "\n"
   ]
  },
  {
   "cell_type": "code",
   "execution_count": 15,
   "metadata": {},
   "outputs": [
    {
     "data": {
      "text/plain": [
       "array([ 112386,  249530,  377989,  510898,  643957,  776022,  903048,\n",
       "       1043346, 1148155, 1273201])"
      ]
     },
     "execution_count": 15,
     "metadata": {},
     "output_type": "execute_result"
    }
   ],
   "source": [
    "cumulative_sum_salaries = np.cumsum(salary_array)\n",
    "cumulative_sum_salaries"
   ]
  },
  {
   "cell_type": "markdown",
   "metadata": {},
   "source": [
    "\n",
    "#### Cumprod (Cumulative Product)\n",
    "\n",
    "Calculates the cumulative product of elements of the salary_array. It calculates the cumulative product at each index, meaning each element in the output array is the product of all preceding elements including the current one from the original array.\n",
    "\n",
    "For the salary_array:\n",
    "\n",
    "   - First element of cumprod is 110003\n",
    "   - Second element is 110003 * 133394\n",
    "   - Third element is (110003 * 133394) * 148741\n",
    "   - And so on...\n",
    "\n"
   ]
  },
  {
   "cell_type": "code",
   "execution_count": 16,
   "metadata": {},
   "outputs": [
    {
     "data": {
      "text/plain": [
       "array([     112386, -1766803600,  1428137424,   532206992,  -490627920,\n",
       "        -899627344,   131845728,  -732196928,  1647818176,  2015610496])"
      ]
     },
     "execution_count": 16,
     "metadata": {},
     "output_type": "execute_result"
    }
   ],
   "source": [
    "# Cumulative product of 'job_no_degree_mention' column (conceptual example)\n",
    "cumulative_prod_salaries = np.cumprod(salary_array)\n",
    "cumulative_prod_salaries"
   ]
  },
  {
   "cell_type": "markdown",
   "metadata": {},
   "source": [
    "**Note**: Due to the large numbers, the cumulative product values quickly escalate to the point where they exceed the numerical limit for typical data types in Python, leading to integer overflow. This is why some numbers appear as negative."
   ]
  },
  {
   "cell_type": "markdown",
   "metadata": {},
   "source": [
    "\n",
    "### Statistics Operations\n",
    "#### Notes\n",
    "\n",
    "A lot of these you can also use Pandas because Pandas is built on top of NumPy. So here's a few examples but we won't be diving deep into them.\n",
    "\n",
    "   - mean\n",
    "   - median\n",
    "   - var: variance\n",
    "   - std: standard deviation\n",
    "   - min\n",
    "   - max\n",
    "\n",
    "#### Mean\n",
    "\n",
    "Calculate the average salary in the salary_array.\n"
   ]
  },
  {
   "cell_type": "code",
   "execution_count": 17,
   "metadata": {},
   "outputs": [
    {
     "data": {
      "text/plain": [
       "127320.1"
      ]
     },
     "execution_count": 17,
     "metadata": {},
     "output_type": "execute_result"
    }
   ],
   "source": [
    "average_salary = np.mean(salary_array)\n",
    "average_salary"
   ]
  },
  {
   "cell_type": "markdown",
   "metadata": {},
   "source": [
    "\n",
    "#### Median\n",
    "\n",
    "Find the median salary in the salary_array.\n"
   ]
  },
  {
   "cell_type": "code",
   "execution_count": 18,
   "metadata": {},
   "outputs": [
    {
     "data": {
      "text/plain": [
       "130262.0"
      ]
     },
     "execution_count": 18,
     "metadata": {},
     "output_type": "execute_result"
    }
   ],
   "source": [
    "median_salary = np.median(salary_array)\n",
    "median_salary"
   ]
  },
  {
   "cell_type": "markdown",
   "metadata": {},
   "source": [
    "\n",
    "#### Var\n",
    "\n",
    "Calculate the variance of the salary_array.\n"
   ]
  },
  {
   "cell_type": "code",
   "execution_count": 19,
   "metadata": {},
   "outputs": [
    {
     "data": {
      "text/plain": [
       "120883537.43333334"
      ]
     },
     "execution_count": 19,
     "metadata": {},
     "output_type": "execute_result"
    }
   ],
   "source": [
    "salary_variance = np.var(salary_array, ddof=1)  # ddof=1 for sample variance\n",
    "salary_variance"
   ]
  },
  {
   "cell_type": "markdown",
   "metadata": {},
   "source": [
    "\n",
    "#### Std\n",
    "\n",
    "Calculate the standard deviation of the salary_array.\n"
   ]
  },
  {
   "cell_type": "code",
   "execution_count": 20,
   "metadata": {},
   "outputs": [
    {
     "data": {
      "text/plain": [
       "10994.704972546255"
      ]
     },
     "execution_count": 20,
     "metadata": {},
     "output_type": "execute_result"
    }
   ],
   "source": [
    "# Standard deviation of 'salary_year_avg' column\n",
    "salary_std_dev = np.std(salary_array, ddof=1)  # ddof=1 for sample standard deviation\n",
    "salary_std_dev"
   ]
  },
  {
   "cell_type": "markdown",
   "metadata": {},
   "source": [
    "\n",
    "#### Min\n",
    "\n",
    "Find the minimum element in the salary_array.\n"
   ]
  },
  {
   "cell_type": "code",
   "execution_count": 21,
   "metadata": {},
   "outputs": [
    {
     "data": {
      "text/plain": [
       "104809"
      ]
     },
     "execution_count": 21,
     "metadata": {},
     "output_type": "execute_result"
    }
   ],
   "source": [
    "# Minimum of 'salary_year_avg' column\n",
    "min_salary = np.min(salary_array)\n",
    "min_salary"
   ]
  },
  {
   "cell_type": "markdown",
   "metadata": {},
   "source": [
    "\n",
    "#### Max\n",
    "\n",
    "Find the maximum element in the salary_array.\n"
   ]
  },
  {
   "cell_type": "code",
   "execution_count": 22,
   "metadata": {},
   "outputs": [
    {
     "data": {
      "text/plain": [
       "140298"
      ]
     },
     "execution_count": 22,
     "metadata": {},
     "output_type": "execute_result"
    }
   ],
   "source": [
    "# Maximum of 'salary_year_avg' column\n",
    "max_salary = np.max(salary_array)\n",
    "max_salary"
   ]
  },
  {
   "cell_type": "markdown",
   "metadata": {},
   "source": [
    "\n",
    "### NaN\n",
    "\n",
    "#### Notes\n",
    "\n",
    "   - Generate NaN values using np.nan\n",
    "   - np.nan value is used in NumPy (and by extension, Pandas) to represent missing or undefined data\n",
    "   - Helpful because it:\n",
    "      -  Handles missing data.\n",
    "      -  Helps with computations since it won't return errors but instead return np.nan.\n",
    "      -  Help filter out or fill in missing data using other methods that we'll use often in the pandas library like dropna(), fillna(), isna(), or notna().\n",
    "\n",
    "#### Examples\n",
    "\n",
    "Below are a few examples of what you can do.\n",
    "\n",
    "#### Insert Missing Values\n",
    "\n",
    "If you want to insert missing values into your array intentionally, perhaps to indicate that data is expected but not yet available. You use np.nan.\n"
   ]
  },
  {
   "cell_type": "code",
   "execution_count": 23,
   "metadata": {},
   "outputs": [
    {
     "data": {
      "text/plain": [
       "array([123124.,     nan, 145000., 128000., 110000., 149999.,     nan,\n",
       "       135000., 115000., 140000.])"
      ]
     },
     "execution_count": 23,
     "metadata": {},
     "output_type": "execute_result"
    }
   ],
   "source": [
    "salary_with_nan = np.array([123124, np.nan, 145000, 128000, 110000, 149999, np.nan, 135000, 115000, 140000], dtype=float)\n",
    "salary_with_nan"
   ]
  },
  {
   "cell_type": "markdown",
   "metadata": {},
   "source": [
    "\n",
    "#### Replace Values with NaN\n",
    "\n",
    "If you want to replace existing values with np.nan, for example, if certain values are considered invalid or outliers:\n"
   ]
  },
  {
   "cell_type": "code",
   "execution_count": 24,
   "metadata": {},
   "outputs": [
    {
     "data": {
      "text/plain": [
       "array([    nan,     nan, 145000.,     nan,     nan, 149999.,     nan,\n",
       "       135000.,     nan, 140000.])"
      ]
     },
     "execution_count": 24,
     "metadata": {},
     "output_type": "execute_result"
    }
   ],
   "source": [
    "salary_with_nan[salary_with_nan < 130000] = np.nan\n",
    "salary_with_nan"
   ]
  },
  {
   "cell_type": "markdown",
   "metadata": {},
   "source": [
    "\n",
    "### Where\n",
    "\n",
    "#### Notes\n",
    "\n",
    "   - np.where check elements of an array against a condition and to assign a value for True and another for false.\n",
    "   - Syntax: np.where(condition).\n",
    "   - It's commonly used to conditionally replace array elements.\n",
    "\n",
    "#### Example\n",
    "\n",
    "We're going to replace all values in salary_array that are less than 120,000 with 120,000 (to apply a minimum salary threshold). We'll use this syntax for it: np.where(condition, x, y). With a condition and if it's true we do x and if not then do y.\n"
   ]
  },
  {
   "cell_type": "code",
   "execution_count": 25,
   "metadata": {},
   "outputs": [
    {
     "data": {
      "text/plain": [
       "array([120000, 137144, 128459, 132909, 133059, 132065, 127026, 140298,\n",
       "       120000, 125046])"
      ]
     },
     "execution_count": 25,
     "metadata": {},
     "output_type": "execute_result"
    }
   ],
   "source": [
    "# Replace values using np.where\n",
    "salary_array = np.where(salary_array < 120000, 120000, salary_array)\n",
    "salary_array"
   ]
  },
  {
   "cell_type": "markdown",
   "metadata": {},
   "source": [
    "\n",
    "### Random Sampling\n",
    "\n",
    "#### Notes\n",
    "\n",
    "   - Generate a random numbers or samples.\n",
    "   - np.random.normal - draws random samples from a normal (Gaussian) distribution.\n",
    "       - Specify the Arguments:\n",
    "          -  loc: This is the mean (μ) of the normal distribution.\n",
    "          -  scale: This is the standard deviation (σ) of the normal distribution, representing the dispersion from the mean.\n",
    "          -  size: This defines the number of random samples to draw, which is set to match the number of job postings.\n",
    "       - Syntax: np.random.normal(loc=0.0, scale=1.0, size=None)\n",
    "   - A few other random sampling functions:\n",
    "       - np.random.rand\n",
    "       - np.random.randn\n",
    "       - np.random.randint\n",
    "       - np.random.random\n",
    "       - np.random.uniform\n",
    "       - np.random.binomial\n",
    "       - np.random.poisson\n",
    "\n",
    "#### Example\n",
    "\n",
    "Let's add some random noise to the salary_array to simulate salary variations. We can generate random values from a normal distribution with a mean of 0 and a standard deviation of 5000, then add these values to the salaries.\n",
    "\n",
    "**Why**? This can be used to simulate salary data for job postings if actual salary data isn't available, for instance, in modeling or simulation scenarios.\n"
   ]
  },
  {
   "cell_type": "code",
   "execution_count": 26,
   "metadata": {},
   "outputs": [
    {
     "data": {
      "text/plain": [
       "array([125318.9280663 , 129334.43965772, 126180.68550151, 138181.999699  ,\n",
       "       136865.83980521, 122643.80855081, 116757.95745799, 142087.76233813,\n",
       "       114728.64129854, 132811.89510168])"
      ]
     },
     "execution_count": 26,
     "metadata": {},
     "output_type": "execute_result"
    }
   ],
   "source": [
    "# Generate numbers based on normal distribution \n",
    "noise = np.random.normal(0, 5000, salary_array.size)\n",
    "# Add these numbers to the salary_array\n",
    "salary_array_with_noise = salary_array + noise\n",
    "salary_array_with_noise"
   ]
  }
 ],
 "metadata": {
  "kernelspec": {
   "display_name": "python_course",
   "language": "python",
   "name": "python3"
  },
  "language_info": {
   "codemirror_mode": {
    "name": "ipython",
    "version": 3
   },
   "file_extension": ".py",
   "mimetype": "text/x-python",
   "name": "python",
   "nbconvert_exporter": "python",
   "pygments_lexer": "ipython3",
   "version": "3.11.9"
  }
 },
 "nbformat": 4,
 "nbformat_minor": 2
}
