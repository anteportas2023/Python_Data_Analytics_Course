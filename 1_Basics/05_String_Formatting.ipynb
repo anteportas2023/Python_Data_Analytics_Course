{
 "cells": [
  {
   "cell_type": "markdown",
   "metadata": {},
   "source": [
    " [![Open In Colab](https://colab.research.google.com/assets/colab-badge.svg)](https://colab.research.google.com/github/lukebarousse/Python_Data_Analytics_Course/blob/main/1_Basics/01_Getting_Started.ipynb)"
   ]
  },
  {
   "cell_type": "markdown",
   "metadata": {},
   "source": [
    "### String Formatting\n",
    "\n",
    "In Python, there are a few different options for formatting our output:\n",
    "\n",
    "| **Method**        | **Syntax**                                    | **Example (prints \"Hello Luke\")**                | **Description**                                                 |\n",
    "|-------------------|-----------------------------------------------|--------------------------------------------------|-----------------------------------------------------------------|\n",
    "| **Concatenation** | `'string' + variable`                         | `'Hello ' + name`                                | Combines strings by directly appending them together.           |\n",
    "| **% Formatting**  | `'string %s' % variable`                      | `'Hello %s' % name`                              | Uses `%` as a placeholder for string substitutions.             |\n",
    "| **str.format()**  | `'string {}'.format(variable)`                | `'Hello {}'.format(name)`                        | Utilizes curly braces `{}` as placeholders for formatting.      |\n",
    "| **f-strings**     | `f'string {variable}'`                        | `f'Hello {name}'`                                | Embeds expressions inside string literals, prefixed with `f`.   |\n",
    "| **join()**        | `'separator'.join([string, variable])`        | `', '.join(['Hello', name])`                     | Joins a list of strings into a single string with a separator.  |\n",
    "\n",
    "For our examples, we'll be printing out a `role` and/or `skill`.\n"
   ]
  },
  {
   "cell_type": "code",
   "execution_count": 1,
   "metadata": {},
   "outputs": [],
   "source": [
    "role = 'Data Analyst'\n",
    "skill = 'Python'"
   ]
  },
  {
   "cell_type": "markdown",
   "metadata": {},
   "source": [
    "\n",
    "#### Types\n",
    "\n",
    "Concatenation +\n",
    "\n",
    "Concatenation involves combining strings with the + operator.\n",
    "It's straightforward but not as flexible as other methods for complex formatting.\n"
   ]
  },
  {
   "cell_type": "code",
   "execution_count": 2,
   "metadata": {},
   "outputs": [
    {
     "data": {
      "text/plain": [
       "'Role: Data Analyst'"
      ]
     },
     "execution_count": 2,
     "metadata": {},
     "output_type": "execute_result"
    }
   ],
   "source": [
    "'Role: ' + role "
   ]
  },
  {
   "cell_type": "markdown",
   "metadata": {},
   "source": [
    "\n",
    "NOTE: For all examples we are going to omit the print() function for ease of readability\n",
    "\n",
    "e.g. print('Role: ' + role)\n",
    "\n",
    "%-formatting (Not Preferred)\n",
    "\n",
    "%-formatting is an older method where % symbols serve as placeholders for variables.\n"
   ]
  },
  {
   "cell_type": "code",
   "execution_count": 3,
   "metadata": {},
   "outputs": [
    {
     "data": {
      "text/plain": [
       "'Role: Data Analyst, Skill required: Python'"
      ]
     },
     "execution_count": 3,
     "metadata": {},
     "output_type": "execute_result"
    }
   ],
   "source": [
    "'Role: %s, Skill required: %s' % (role, skill)"
   ]
  },
  {
   "cell_type": "markdown",
   "metadata": {},
   "source": [
    "\n",
    "NOTE: This is the last time you'll see us use this option as it's hard to read IMO (in my opinion)\n",
    "\n",
    "f-Strings (Formatted String Literals - Preferred)\n",
    "\n",
    "Use f-strings by prefixing a string with f and placing variables or expressions in {} braces directly within the string.\n",
    "They are both concise and efficient.\n"
   ]
  },
  {
   "cell_type": "code",
   "execution_count": 4,
   "metadata": {},
   "outputs": [
    {
     "data": {
      "text/plain": [
       "'Role: Data Analyst, Skill required: Python'"
      ]
     },
     "execution_count": 4,
     "metadata": {},
     "output_type": "execute_result"
    }
   ],
   "source": [
    "f'Role: {role}, Skill required: {skill}'"
   ]
  },
  {
   "cell_type": "markdown",
   "metadata": {},
   "source": [
    "\n",
    "str.format()\n",
    "\n",
    "The str.format() method uses curly braces {} as placeholders. It's more flexible than %-formatting and allows for reordering and reuse of arguments.\n"
   ]
  },
  {
   "cell_type": "code",
   "execution_count": 5,
   "metadata": {},
   "outputs": [
    {
     "data": {
      "text/plain": [
       "'Role: Data Analyst, Skill required: Python'"
      ]
     },
     "execution_count": 5,
     "metadata": {},
     "output_type": "execute_result"
    }
   ],
   "source": [
    "'Role: {}, Skill required: {}'.format(role, skill)"
   ]
  },
  {
   "cell_type": "markdown",
   "metadata": {},
   "source": [
    "Or you can refer to your variable substitutions similar to f-strings... I still prefer f-strings tho."
   ]
  },
  {
   "cell_type": "code",
   "execution_count": 6,
   "metadata": {},
   "outputs": [
    {
     "data": {
      "text/plain": [
       "'Role: Data Nerd, Skill required: SQL'"
      ]
     },
     "execution_count": 6,
     "metadata": {},
     "output_type": "execute_result"
    }
   ],
   "source": [
    "'Role: {role}, Skill required: {skill}'.format(\n",
    "    role=\"Data Nerd\", skill=\"SQL\")"
   ]
  },
  {
   "cell_type": "markdown",
   "metadata": {},
   "source": [
    "\n",
    "Using join()\n",
    "\n",
    "The join() method is useful for concatenating iterable items (e.g., strings, lists) into a single string, often separated by a specified character.\n"
   ]
  },
  {
   "cell_type": "code",
   "execution_count": 7,
   "metadata": {},
   "outputs": [
    {
     "data": {
      "text/plain": [
       "'0, 1, 2, 3, 4, 5, 6, 7, 8, 9'"
      ]
     },
     "execution_count": 7,
     "metadata": {},
     "output_type": "execute_result"
    }
   ],
   "source": [
    "years_expeirence = \"0123456789\"\n",
    "\n",
    "', '.join(years_expeirence)"
   ]
  },
  {
   "cell_type": "markdown",
   "metadata": {},
   "source": [
    "This is more commonly used when you have a list of items to concatenate."
   ]
  },
  {
   "cell_type": "code",
   "execution_count": 8,
   "metadata": {},
   "outputs": [
    {
     "data": {
      "text/plain": [
       "'Role: Data Analyst, Skills required: Python, SQL'"
      ]
     },
     "execution_count": 8,
     "metadata": {},
     "output_type": "execute_result"
    }
   ],
   "source": [
    "skills = ['Python', 'SQL']\n",
    "'Role: ' + role + ', Skills required: ' + ', '.join(skills)"
   ]
  },
  {
   "cell_type": "markdown",
   "metadata": {},
   "source": [
    "\n",
    "Which one to use?\n",
    "\n",
    "Each of these methods has its particular use cases, with f-strings generally being the preferred choice for their readability and performance.\n",
    "However, knowing all these methods is good practice.\n"
   ]
  }
 ],
 "metadata": {
  "kernelspec": {
   "display_name": "python_course",
   "language": "python",
   "name": "python3"
  },
  "language_info": {
   "codemirror_mode": {
    "name": "ipython",
    "version": 3
   },
   "file_extension": ".py",
   "mimetype": "text/x-python",
   "name": "python",
   "nbconvert_exporter": "python",
   "pygments_lexer": "ipython3",
   "version": "3.11.9"
  }
 },
 "nbformat": 4,
 "nbformat_minor": 2
}
