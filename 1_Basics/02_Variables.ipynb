{
 "cells": [
  {
   "cell_type": "markdown",
   "metadata": {},
   "source": [
    "[![Open In Colab](https://colab.research.google.com/assets/colab-badge.svg)](https://colab.research.google.com/github/lukebarousse/Python_Data_Analytics_Course/blob/main/1_Basics/01_Getting_Started.ipynb)"
   ]
  },
  {
   "cell_type": "markdown",
   "metadata": {},
   "source": [
    "\n",
    "#### Variables\n",
    "\n",
    "### Create a Variable\n",
    "## Notes\n",
    "\n",
    "  -  A variable is created the moment you assign a value to it\n",
    "  -  Variables don't need to be declared with any type\n",
    "  -  Variables can change types even after they've been set\n",
    "\n",
    "The variable name goes on the left side of the assignment operator (=), and the value or expression you want to assign to that variable goes on the right side. It will be like this:\n",
    "\n",
    "variable_name = value\n",
    "\n",
    "### Examples"
   ]
  },
  {
   "cell_type": "code",
   "execution_count": 1,
   "metadata": {},
   "outputs": [],
   "source": [
    "base_salary = 100000"
   ]
  },
  {
   "cell_type": "markdown",
   "metadata": {},
   "source": [
    "You can also perform operations using variables."
   ]
  },
  {
   "cell_type": "code",
   "execution_count": 2,
   "metadata": {},
   "outputs": [],
   "source": [
    "bonus_rate = 0.1\n",
    "\n",
    "total_salary = base_salary * (1 + bonus_rate)"
   ]
  },
  {
   "cell_type": "markdown",
   "metadata": {},
   "source": [
    "But how the heck do we see what the total salary is? We can either print the variable using the print() function or call it."
   ]
  },
  {
   "cell_type": "code",
   "execution_count": 3,
   "metadata": {},
   "outputs": [
    {
     "data": {
      "text/plain": [
       "110000.00000000001"
      ]
     },
     "execution_count": 3,
     "metadata": {},
     "output_type": "execute_result"
    }
   ],
   "source": [
    "total_salary"
   ]
  },
  {
   "cell_type": "code",
   "execution_count": 4,
   "metadata": {},
   "outputs": [
    {
     "data": {
      "text/plain": [
       "110000.00000000001"
      ]
     },
     "execution_count": 4,
     "metadata": {},
     "output_type": "execute_result"
    }
   ],
   "source": [
    "# Calling a variable\n",
    "total_salary"
   ]
  },
  {
   "cell_type": "markdown",
   "metadata": {},
   "source": [
    "### Variables aren't only numbers\n",
    "\n",
    "## Notes\n",
    "\n",
    "  -  We can store all different kinds of data in variables\n",
    "  -  **Note**: We'll cover more on types in a bit\n"
   ]
  },
  {
   "cell_type": "markdown",
   "metadata": {},
   "source": [
    "### Example\n",
    "\n",
    "   - Create variables to store the following information about a job posting:\n",
    "       - Job ID (integer)\n",
    "       - Company Name (string)\n",
    "       - Salary Rate (string, but consider how you might store this as a numerical type for calculations)\n",
    "       - Job Work From Home (boolean)\n"
   ]
  },
  {
   "cell_type": "code",
   "execution_count": 5,
   "metadata": {},
   "outputs": [],
   "source": [
    "job_id = 101\n",
    "company_name = 'DataWiz Inc.'\n",
    "job_title = 'Data Analyst'\n",
    "job_salary = 125000\n",
    "job_work_from_home = True"
   ]
  },
  {
   "cell_type": "markdown",
   "metadata": {},
   "source": [
    "We can use the print() function to return all the variables:"
   ]
  },
  {
   "cell_type": "code",
   "execution_count": 6,
   "metadata": {},
   "outputs": [
    {
     "name": "stdout",
     "output_type": "stream",
     "text": [
      "Job ID:       101\n",
      "Company Name: DataWiz Inc.\n",
      "Job Title:    Data Analyst\n",
      "Salary:       125000\n",
      "WFH:          True\n"
     ]
    }
   ],
   "source": [
    "# This won't print out the variable name.\n",
    "print(\"Job ID:      \", job_id)\n",
    "print(\"Company Name:\", company_name)\n",
    "print(\"Job Title:   \", job_title)\n",
    "print(\"Salary:      \", job_salary)\n",
    "print(\"WFH:         \", job_work_from_home)"
   ]
  },
  {
   "cell_type": "markdown",
   "metadata": {},
   "source": [
    "\n",
    "### Objects in Python\n",
    "\n",
    "Something to understand: everything stored in Python is considered an **object**. This includes all the data types we've talked about and will talk about.\n",
    "\n",
    "Objects are a foundational concept in Python, and we'll explore more about what they do in the upcoming sections.\n"
   ]
  }
 ],
 "metadata": {
  "kernelspec": {
   "display_name": "python_course",
   "language": "python",
   "name": "python3"
  },
  "language_info": {
   "codemirror_mode": {
    "name": "ipython",
    "version": 3
   },
   "file_extension": ".py",
   "mimetype": "text/x-python",
   "name": "python",
   "nbconvert_exporter": "python",
   "pygments_lexer": "ipython3",
   "version": "3.11.9"
  }
 },
 "nbformat": 4,
 "nbformat_minor": 2
}
