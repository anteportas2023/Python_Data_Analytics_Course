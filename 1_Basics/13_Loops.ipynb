{
 "cells": [
  {
   "cell_type": "markdown",
   "metadata": {},
   "source": [
    " [![Open In Colab](https://colab.research.google.com/assets/colab-badge.svg)](https://colab.research.google.com/github/lukebarousse/Python_Data_Analytics_Course/blob/main/1_Basics/01_Getting_Started.ipynb)"
   ]
  },
  {
   "cell_type": "markdown",
   "metadata": {},
   "source": [
    "\n",
    "### Loops\n",
    "\n",
    "#### Overview\n",
    "\n",
    "  -  while loops\n",
    "  -  for loops\n",
    "\n",
    "#### Importance\n",
    "\n",
    "Crucial for automating repetitive tasks, like data processing in pandas or creating multiple plots in Matplotlib.\n",
    "\n",
    "A for loops iterates over an iterable object.\n"
   ]
  },
  {
   "cell_type": "code",
   "execution_count": 1,
   "metadata": {},
   "outputs": [
    {
     "name": "stdout",
     "output_type": "stream",
     "text": [
      "1\n",
      "2\n",
      "3\n",
      "4\n",
      "5\n"
     ]
    }
   ],
   "source": [
    "numbers = [1, 2, 3, 4, 5]\n",
    "for number in numbers:\n",
    "    print(number)"
   ]
  },
  {
   "cell_type": "markdown",
   "metadata": {},
   "source": [
    "A while loop repeats an action until a condition is no longer true."
   ]
  },
  {
   "cell_type": "code",
   "execution_count": 2,
   "metadata": {},
   "outputs": [
    {
     "name": "stdout",
     "output_type": "stream",
     "text": [
      "1\n",
      "2\n",
      "3\n",
      "4\n",
      "5\n"
     ]
    }
   ],
   "source": [
    "count = 1\n",
    "while count <= 5:\n",
    "    print(count)\n",
    "    count += 1"
   ]
  },
  {
   "cell_type": "markdown",
   "metadata": {},
   "source": [
    "\n",
    "### While\n",
    "\n",
    "#### Notes\n",
    "\n",
    "  -  A while loop executes a set of statements as long as the condition is true.\n",
    "  -  Remember to increment i, or else the loop will continue forever.\n",
    "\n",
    "#### Examples\n",
    "\n",
    "Prints out all the years of experience required for the 3 data science jobs.\n",
    "\n",
    "  -  Initializes variables to track the total number of job positions (total_positions), and the current position being checked (position_index).\n",
    "  -  Uses a while loop to iterate through each job position's minimum experience requirement (position_experience_requirements) as long as position_index is less than total_positions.\n",
    "  -  Within the loop it prints out the specific number of years of experience position_experience_requirement that position requires.\n",
    "  -  Increments (increases) position_index by 1 in each loop iteration to move to the next job position. This makes sure the loop terminates after checking all positions.\n",
    "\n"
   ]
  },
  {
   "cell_type": "code",
   "execution_count": 3,
   "metadata": {},
   "outputs": [],
   "source": [
    "# Total number of job positions to check\n",
    "total_positions = 3\n",
    "position_index = 0\n",
    "\n",
    "# Minimum years of experience required for each data science job position\n",
    "position_experience_requirements = [1, 3, 2]"
   ]
  },
  {
   "cell_type": "code",
   "execution_count": 4,
   "metadata": {},
   "outputs": [
    {
     "name": "stdout",
     "output_type": "stream",
     "text": [
      "Position requires 1 years of experience.\n",
      "Position requires 3 years of experience.\n",
      "Position requires 2 years of experience.\n"
     ]
    }
   ],
   "source": [
    "while position_index < total_positions:\n",
    "    print('Position requires', position_experience_requirements[position_index], 'years of experience.')\n",
    "    position_index += 1"
   ]
  },
  {
   "cell_type": "markdown",
   "metadata": {},
   "source": [
    "\n",
    "#### Practical Example\n",
    "\n",
    "Here's a more complicated example of how you can use while loops.\n",
    "\n",
    "We'll add in the user_years_of_experience.\n",
    "\n",
    "  -  Initializes variables to track the user's experience (user_years_of_experience), the total number of job positions (total_positions), and the current position being checked (position_index).\n",
    "  -  Uses a while loop to iterate through each job position's minimum experience requirement (position_experience_requirements) as long as position_index is less than total_positions.\n",
    "  -  Within the loop, compares user_years_of_experience to the requirement for the current position (required_years): prints 'Qualified' if the user meets or exceeds the requirement, otherwise prints 'Not qualified'.\n",
    "  -  Increments (increases) position_index by 1 in each loop iteration to move to the next job position. This makes sure the loop terminates after checking all positions.\n",
    "\n"
   ]
  },
  {
   "cell_type": "code",
   "execution_count": 5,
   "metadata": {},
   "outputs": [
    {
     "data": {
      "text/plain": [
       "2"
      ]
     },
     "execution_count": 5,
     "metadata": {},
     "output_type": "execute_result"
    }
   ],
   "source": [
    "# User's years of experience\n",
    "user_years_of_experience = 2\n",
    "\n",
    "user_years_of_experience"
   ]
  },
  {
   "cell_type": "markdown",
   "metadata": {},
   "source": [
    "\n",
    "\n",
    "🪲 **Debugging**\n",
    "\n",
    "**These are intentional mistakes**\n",
    "\n",
    "This is used to demonstrate debugging.\n",
    "\n",
    "Error 1:\n",
    "\n",
    "  -  Forgot a : after the if statement.\n",
    "\n",
    "```python\n",
    "if user_years_of_experience >= required_years\n",
    "\n",
    "Error 2:\n",
    "\n",
    "    Forgot to indent the statement after else keyword.\n",
    "\n",
    "'cloud': 'aws'\n",
    "\n",
    "Steps to Debug:\n",
    "\n",
    "  1.  Look at the actual error, can you tell what the problem is?\n",
    "  2.  If not, then look it up:\n",
    "  3.  Use a chatbot like ChatGPT or Claude\n",
    "  4.  Look it up using Google\n",
    "\n"
   ]
  },
  {
   "cell_type": "code",
   "execution_count": 6,
   "metadata": {},
   "outputs": [
    {
     "ename": "SyntaxError",
     "evalue": "expected ':' (126596802.py, line 3)",
     "output_type": "error",
     "traceback": [
      "\u001b[1;36m  Cell \u001b[1;32mIn[6], line 3\u001b[1;36m\u001b[0m\n\u001b[1;33m    if user_years_of_experience >= required_years\u001b[0m\n\u001b[1;37m                                                 ^\u001b[0m\n\u001b[1;31mSyntaxError\u001b[0m\u001b[1;31m:\u001b[0m expected ':'\n"
     ]
    }
   ],
   "source": [
    "while position_index < total_positions:\n",
    "    required_years = position_experience_requirements[position_index]\n",
    "    if user_years_of_experience >= required_years\n",
    "        print('Qualified')\n",
    "    else:\n",
    "    print('Not qualified')\n",
    "    position_index += 1"
   ]
  },
  {
   "cell_type": "markdown",
   "metadata": {},
   "source": [
    "This is the correct code ✅. I noticed if you try to rerun this right after this error you will need to re-run the variable cells again."
   ]
  },
  {
   "cell_type": "code",
   "execution_count": 7,
   "metadata": {},
   "outputs": [],
   "source": [
    "while position_index < total_positions:\n",
    "    required_years = position_experience_requirements[position_index]\n",
    "    if user_years_of_experience >= required_years:\n",
    "        print('Qualified')\n",
    "    else:\n",
    "        print('Not qualified')\n",
    "    position_index += 1"
   ]
  },
  {
   "cell_type": "markdown",
   "metadata": {},
   "source": [
    "\n",
    "### For\n",
    "\n",
    "#### Notes\n",
    "\n",
    "   - A for loop iterates over a sequence (e.g. list, tuple, dictionary, set, or string).\n",
    "   - Execute a set of statements, one for each item in a list, tuple, set, etc.\n",
    "\n",
    "#### Example\n",
    "\n",
    "This loop checks the user's qualification for each position based on their years of experience and returns the result.\n",
    "\n",
    "We're using the same variable as before: position_experience_requirements.\n",
    "\n",
    "   - A for loop iterates (goes through) through each item in the position_experience_requirements list.\n",
    "   - Inside the loop it prints the years of experience required for the position.\n",
    "\n"
   ]
  },
  {
   "cell_type": "code",
   "execution_count": 8,
   "metadata": {},
   "outputs": [
    {
     "name": "stdout",
     "output_type": "stream",
     "text": [
      "Position requires 1 years of experience.\n",
      "Position requires 3 years of experience.\n",
      "Position requires 2 years of experience.\n"
     ]
    }
   ],
   "source": [
    "for x in position_experience_requirements:\n",
    "    print(f'Position requires {x} years of experience.')"
   ]
  },
  {
   "cell_type": "markdown",
   "metadata": {},
   "source": [
    "\n",
    "### Enumerate\n",
    "\n",
    "#### Notes\n",
    "\n",
    "   - Primary used in loops, especially in for loops.\n",
    "   - Good for when you need the index of an iterable object for operations like:\n",
    "       - updating the elements based on their position\n",
    "       - comparing items at different positions\n",
    "       - displaying the position along with the item\n",
    "   - Syntax: enumerate(iterable, start = 0)\n",
    "\n",
    "#### Example\n",
    "\n",
    "Instead of simply iterating over the list with x in list to get the years of experience required for each position, we can use enumerate to get both the index (which represents the position number) and the years of experience from position_experience_requirements.\n",
    "\n",
    "We'll also use f-strings to format our string.\n"
   ]
  },
  {
   "cell_type": "code",
   "execution_count": 9,
   "metadata": {},
   "outputs": [
    {
     "name": "stdout",
     "output_type": "stream",
     "text": [
      "Position 1 requires 1 years of experience.\n",
      "Position 2 requires 3 years of experience.\n",
      "Position 3 requires 2 years of experience.\n"
     ]
    }
   ],
   "source": [
    "# Enhanced example using enumerate to include the position index\n",
    "for index, years in enumerate(position_experience_requirements, start=1):\n",
    "    print(f'Position {index} requires {years} years of experience.')"
   ]
  },
  {
   "cell_type": "markdown",
   "metadata": {},
   "source": [
    "\n",
    "### Pass\n",
    "\n",
    "#### Notes\n",
    "\n",
    "   - pass is used when a for has nothing in it, so it avoids and error\n",
    "\n",
    "Example\n",
    "\n",
    "Below we updated our example and added pass in it.\n"
   ]
  },
  {
   "cell_type": "code",
   "execution_count": 10,
   "metadata": {},
   "outputs": [],
   "source": [
    "for x in position_experience_requirements:\n",
    "    pass"
   ]
  },
  {
   "cell_type": "markdown",
   "metadata": {},
   "source": [
    "\n",
    "#### Nested Loops\n",
    "\n",
    "You can also have a loop inside another loop. Below we're going through two lists.\n"
   ]
  },
  {
   "cell_type": "code",
   "execution_count": 11,
   "metadata": {},
   "outputs": [
    {
     "name": "stdout",
     "output_type": "stream",
     "text": [
      "For the role of Data Scientist, you need experience in:\n",
      "  - Python\n",
      "  - SQL\n",
      "  - Machine Learning\n",
      "For the role of Machine Learning Engineer, you need experience in:\n",
      "  - Python\n",
      "  - SQL\n",
      "  - Machine Learning\n"
     ]
    }
   ],
   "source": [
    "roles = ['Data Scientist', 'Machine Learning Engineer']\n",
    "skills = ['Python', 'SQL', 'Machine Learning']\n",
    "\n",
    "for role in roles:\n",
    "    print(f'For the role of {role}, you need experience in:')\n",
    "    for skill in skills:\n",
    "        print(f'  - {skill}')"
   ]
  },
  {
   "cell_type": "markdown",
   "metadata": {},
   "source": [
    "\n",
    "#### Practical Example\n",
    "\n",
    "Here's a more complicated example of how you can use for loops.\n",
    "\n",
    "This loop checks the user's qualification for each position based on their years of experience and returns the result.\n",
    "\n",
    "  -  The code defines a list named position_experience_requirements with integers representing the minimum years of experience required for various data science job positions.\n",
    "  -  It sets a variable user_years_of_experience to 2.\n",
    "  -  A for loop iterates (goes through) through each item in the position_experience_requirements list.\n",
    "  -  Inside the loop, an if statement checks if user_experience is greater than or equal to required_experience for a position.\n",
    "  -  If the condition is met, it prints 'Qualified'; otherwise, it prints 'Not qualified'.\n",
    "\n"
   ]
  },
  {
   "cell_type": "code",
   "execution_count": 12,
   "metadata": {},
   "outputs": [
    {
     "name": "stdout",
     "output_type": "stream",
     "text": [
      "Qualified\n",
      "Not qualified\n",
      "Qualified\n"
     ]
    }
   ],
   "source": [
    "# For loop to check qualification for each job\n",
    "for required_experience in position_experience_requirements:\n",
    "    if user_years_of_experience >= required_experience:\n",
    "        print('Qualified')\n",
    "    else:\n",
    "        print('Not qualified')"
   ]
  },
  {
   "cell_type": "markdown",
   "metadata": {},
   "source": [
    "\n",
    "#### Break\n",
    "\n",
    "The break statement can stop the loop before it's looped through all of the items. Here the break exits the loop early if the condition is met (aka if the users experience is greater than or equal to the required experience).\n"
   ]
  },
  {
   "cell_type": "code",
   "execution_count": 13,
   "metadata": {},
   "outputs": [],
   "source": [
    "# For loop to check qualification for each job\n",
    "for required_experience in position_experience_requirements:\n",
    "    if user_years_of_experience >= required_experience:\n",
    "        break\n",
    "    else:\n",
    "        print('Not qualified')"
   ]
  },
  {
   "cell_type": "markdown",
   "metadata": {},
   "source": [
    "\n",
    "\n",
    "What if you didn't have a specific list to run through? And instead want to just go through a specific number of times? Then you'd use range().\n",
    "\n",
    "#### Example #2\n",
    "\n",
    "Problem: Make a list of job titles containing \"Data Analyst\".\n",
    "\n",
    "The following Code block is only to import the data.\n",
    "\n",
    "This includes concepts we haven't covered yet; so just ignore it for now.\n"
   ]
  },
  {
   "cell_type": "code",
   "execution_count": 14,
   "metadata": {},
   "outputs": [
    {
     "data": {
      "text/plain": [
       "['Senior Clinical Data Engineer / Principal Clinical Data Engineer ...',\n",
       " 'Data Analyst',\n",
       " 'Data Engineer/Scientist/Analyst, Mid or Senior (m/f/x)',\n",
       " 'LEAD ENGINEER - PRINCIPAL ANALYST - PRINCIPAL ENGINEER -  DATA...',\n",
       " 'Data Engineer- Sr Jobs',\n",
       " 'GCP Data Engineer',\n",
       " 'Senior Data Engineer  - GCP Cloud',\n",
       " 'Data Engineer',\n",
       " 'Technology & Operations Business Analyst',\n",
       " 'Data Scientist II']"
      ]
     },
     "execution_count": 14,
     "metadata": {},
     "output_type": "execute_result"
    }
   ],
   "source": [
    "from datasets import load_dataset\n",
    "\n",
    "# Load the dataset\n",
    "dataset = load_dataset('lukebarousse/data_jobs')\n",
    "df = dataset['train'].to_pandas()\n",
    "\n",
    "# Create a list of job titles from the dataset\n",
    "job_list = df['job_title'].tolist()\n",
    "\n",
    "# Remove any non-string values from the list\n",
    "job_list = [job for job in job_list if isinstance(job, str)]\n",
    "\n",
    "# Display the first 10 job titles\n",
    "job_list[:10]"
   ]
  },
  {
   "cell_type": "code",
   "execution_count": 15,
   "metadata": {},
   "outputs": [
    {
     "data": {
      "text/plain": [
       "['Data Analyst',\n",
       " 'Stagiaire Data Analyst (H/F) - Lyon (69006)',\n",
       " 'Data Analyst',\n",
       " 'Senior Officer, Data Analyst, GTO',\n",
       " 'Stage - Data Analyst F/H',\n",
       " 'Data Analyst als Marketing Manager Automation (W/D/M)',\n",
       " 'Data Analyst',\n",
       " 'Senior Data Analyst',\n",
       " 'Data Analyst (Bangkok Based, relocation provided)',\n",
       " 'Senior Data Analyst']"
      ]
     },
     "execution_count": 15,
     "metadata": {},
     "output_type": "execute_result"
    }
   ],
   "source": [
    "# Create an empty list to store the job titles that contain \"Data Analyst\"\n",
    "analyst_list = []\n",
    "\n",
    "# Loop through the job titles and add any that contain \"Data Analyst\" to the analyst_list\n",
    "for job in job_list:\n",
    "  if \"Data Analyst\" in job:\n",
    "    analyst_list.append(job)\n",
    "\n",
    "# Display the job titles that contain \"Data Analyst\"\n",
    "analyst_list[:10]"
   ]
  },
  {
   "cell_type": "markdown",
   "metadata": {},
   "source": [
    "\n",
    "### range() function\n",
    "\n",
    "#### Notes\n",
    "\n",
    "   - range() runs a for loop a specific number of times\n",
    "   - It returns a sequence of numbers, starting from 0 be default, and increments by 1 (by default), and ends at the specified number\n",
    "\n",
    "#### Examples\n",
    "\n",
    "First we'll print numbers from 0 to 3 since range(4) goes from 0 to 4 (not including 4).\n"
   ]
  },
  {
   "cell_type": "code",
   "execution_count": 16,
   "metadata": {},
   "outputs": [
    {
     "name": "stdout",
     "output_type": "stream",
     "text": [
      "0\n",
      "1\n",
      "2\n",
      "3\n"
     ]
    }
   ],
   "source": [
    "for x in range(4):\n",
    "    print(x)"
   ]
  },
  {
   "cell_type": "markdown",
   "metadata": {},
   "source": [
    "Here you can specify the starting value. This will start at 1 and go till 5 (since it doesn't include 6)."
   ]
  },
  {
   "cell_type": "code",
   "execution_count": 17,
   "metadata": {},
   "outputs": [
    {
     "name": "stdout",
     "output_type": "stream",
     "text": [
      "1\n",
      "2\n",
      "3\n",
      "4\n",
      "5\n"
     ]
    }
   ],
   "source": [
    "for x in range(1,6):\n",
    "    print(x)"
   ]
  }
 ],
 "metadata": {
  "kernelspec": {
   "display_name": "python_course",
   "language": "python",
   "name": "python3"
  },
  "language_info": {
   "codemirror_mode": {
    "name": "ipython",
    "version": 3
   },
   "file_extension": ".py",
   "mimetype": "text/x-python",
   "name": "python",
   "nbconvert_exporter": "python",
   "pygments_lexer": "ipython3",
   "version": "3.11.9"
  }
 },
 "nbformat": 4,
 "nbformat_minor": 2
}
