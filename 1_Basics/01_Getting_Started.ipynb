{
 "cells": [
  {
   "cell_type": "markdown",
   "metadata": {},
   "source": [
    " [![Open In Colab](https://colab.research.google.com/assets/colab-badge.svg)](https://colab.research.google.com/github/lukebarousse/Python_Data_Analytics_Course/blob/main/1_Basics/01_Getting_Started.ipynb)\n"
   ]
  },
  {
   "cell_type": "markdown",
   "metadata": {},
   "source": [
    "# Getting Started w/ Jupyter Notebooks in Colab\n",
    "\n",
    "## Options create a Colab Notebook:\n",
    "- Go to [colab.research.google.com](https://colab.research.google.com)\n",
    "- Or in [drive.google.com](https://drive.google.com)\n",
    "  - Select \"+ New\" in the top right-hand corner\n",
    "  - Select \"More\" and then \"Google Colaboratory\""
   ]
  },
  {
   "cell_type": "markdown",
   "metadata": {},
   "source": [
    "**NOTE:** For both options, you must be logged in to Google.\n",
    "\n",
    "## Adding and moving cells\n",
    "\n",
    "Add new cells by using the **+ CODE** and **+ TEXT** buttons that show when you hover between cells.\n",
    "\n",
    "You can move a cell by selecting it and clicking **Cell Up** or **Cell Down** in the top toolbar.\n",
    "\n",
    "## Markdown Cell vs. Python Cell"
   ]
  },
  {
   "cell_type": "markdown",
   "metadata": {},
   "source": [
    "#### Markdown Example\n",
    "This is a markdown cell."
   ]
  },
  {
   "cell_type": "markdown",
   "metadata": {},
   "source": [
    "Python Example"
   ]
  },
  {
   "cell_type": "code",
   "execution_count": 1,
   "metadata": {},
   "outputs": [
    {
     "data": {
      "text/plain": [
       "'This is a python cell'"
      ]
     },
     "execution_count": 1,
     "metadata": {},
     "output_type": "execute_result"
    }
   ],
   "source": [
    "\"This is a python cell\""
   ]
  },
  {
   "cell_type": "markdown",
   "metadata": {},
   "source": [
    "## How to Run a Cell\n",
    "\n",
    "*Easy Way:* Click the run button.\n",
    "\n",
    "*Pro Way:* With cell selected type **Cmd/Ctrl+Enter**.\n",
    "\n",
    "*Other Pro Tips:*\n",
    "* Type **Shift+Enter** to run the cell and move selection to the next cell\n",
    "* Type **Alt+Enter** to run the cell and insert a new code cell below it"
   ]
  },
  {
   "cell_type": "markdown",
   "metadata": {},
   "source": [
    "## Python Basics\n",
    "\n",
    "Cells print out below it its results."
   ]
  },
  {
   "cell_type": "code",
   "execution_count": 3,
   "metadata": {},
   "outputs": [
    {
     "data": {
      "text/plain": [
       "4"
      ]
     },
     "execution_count": 3,
     "metadata": {},
     "output_type": "execute_result"
    }
   ],
   "source": [
    "2 + 2"
   ]
  },
  {
   "cell_type": "markdown",
   "metadata": {},
   "source": [
    "If you have multiple lines only the last line will show."
   ]
  },
  {
   "cell_type": "code",
   "execution_count": 4,
   "metadata": {},
   "outputs": [
    {
     "data": {
      "text/plain": [
       "9"
      ]
     },
     "execution_count": 4,
     "metadata": {},
     "output_type": "execute_result"
    }
   ],
   "source": [
    "2 + 2\n",
    "3 * 3"
   ]
  },
  {
   "cell_type": "markdown",
   "metadata": {},
   "source": [
    "The `print()` function outputs the specified message to the console, allowing you to display text, variables, or the results of expressions.\n",
    "- Note: We'll cover functions (e.g., `sum()`, `max()`) in an upcoming lesson, but understand that this is one of many Python functions to perform common tasks."
   ]
  },
  {
   "cell_type": "code",
   "execution_count": 5,
   "metadata": {},
   "outputs": [
    {
     "name": "stdout",
     "output_type": "stream",
     "text": [
      "What's Up, Data Nerds\n",
      "4\n",
      "9\n"
     ]
    }
   ],
   "source": [
    "print(\"What's Up, Data Nerds\")\n",
    "print(2 + 2)\n",
    "print(3 * 3)"
   ]
  },
  {
   "cell_type": "markdown",
   "metadata": {},
   "source": [
    "Technically, I could remove that last print function."
   ]
  },
  {
   "cell_type": "code",
   "execution_count": 6,
   "metadata": {},
   "outputs": [
    {
     "name": "stdout",
     "output_type": "stream",
     "text": [
      "What's Up, Data Nerds\n",
      "4\n"
     ]
    },
    {
     "data": {
      "text/plain": [
       "9"
      ]
     },
     "execution_count": 6,
     "metadata": {},
     "output_type": "execute_result"
    }
   ],
   "source": [
    "print(\"What's Up, Data Nerds\")\n",
    "print(2 + 2)\n",
    "3 * 3"
   ]
  },
  {
   "cell_type": "markdown",
   "metadata": {},
   "source": [
    "#### Make a Comment\n",
    "\n",
    "What if you wanted to include something in your code like a note?  \n",
    "- Include a `#` before the line\n",
    "- This is called a comment\n",
    "\n",
    "That doesn't execute anything and isn't read by the Python interpreter when executing your code."
   ]
  },
  {
   "cell_type": "code",
   "execution_count": 7,
   "metadata": {},
   "outputs": [],
   "source": [
    "# This is a comment. Nothing to the right of the \"#\" sign will be interpreted"
   ]
  },
  {
   "cell_type": "code",
   "execution_count": 8,
   "metadata": {},
   "outputs": [
    {
     "name": "stdout",
     "output_type": "stream",
     "text": [
      "What's Up, Data Nerds\n",
      "4\n"
     ]
    },
    {
     "data": {
      "text/plain": [
       "9"
      ]
     },
     "execution_count": 8,
     "metadata": {},
     "output_type": "execute_result"
    }
   ],
   "source": [
    "# This is a comment\n",
    "\n",
    "print(\"What's Up, Data Nerds\")\n",
    "print(2 + 2) # This is a comment also\n",
    "3 * 3"
   ]
  },
  {
   "cell_type": "markdown",
   "metadata": {},
   "source": [
    "## Markdown Basics\n",
    "\n",
    "Markdown is a lightweight markup language that uses characters like # for headings and * for emphasis to format text simply and intuitively.\n",
    "\n",
    "| Element        | Markdown Syntax                        |\n",
    "|----------------|----------------------------------------|\n",
    "| Heading        | `# H1`<br>`## H2`<br>`### H3`          |\n",
    "| Bold           | `**bold text**`                        |\n",
    "| Italic         | `*italicized text*`                    |\n",
    "| Blockquote     | `> blockquote`                         |\n",
    "| Ordered List   | `1. First item`<br>`2. Second item`<br>`3. Third item` |\n",
    "| Unordered List | `- First item`<br>`- Second item`<br>`- Third item`   |\n",
    "| Code           | `` `code` ``                           |\n",
    "| Horizontal Rule| `---`                                  |\n",
    "| Link           | `[title](https://www.example.com)`     |\n",
    "| Image          | `![alt text](image.jpg)`               |\n",
    "\n",
    "[Here is more info on Markdown](https://www.markdownguide.org/basic-syntax/)\n",
    "\n",
    "## Colab Walkthrough\n",
    "\n",
    "#### Sidebar Menu (Left-Top)\n",
    "- Table of Contents\n",
    "- Find and Replace\n",
    "- Variables\n",
    "- Secrets\n",
    "- Files\n",
    "\n",
    "#### Sidebar Menu (Left-Bottom)\n",
    "- Code snippets\n",
    "- Command palette\n",
    "- Terminal\n",
    "\n",
    "#### Top Menu Bar\n",
    "- Runtime: Controls running cells and restarting notebook\n",
    "\n",
    "#### Colab Header (Top)\n",
    "- RAM & Disk Usage\n",
    "- Colab AI (may or may not have)\n",
    "\n",
    "### Runtime Deep Dive\n",
    "\n",
    "**Run All:**\n",
    "- ⚙️ Executes all notebook cells in sequence  \n",
    "\n",
    "**Interrupt Execution:**\n",
    "- 🛑 Stops the execution of the current cell  \n",
    "\n",
    "**Restart Session:**\n",
    "- 🔄 Resets the notebook's kernel, clearing all the executed code memory  \n",
    "- ✨ No code execution afterward unless manually triggered  \n",
    "\n",
    "**Disconnect and Delete Runtime:**\n",
    "- ❌ Stops the notebook, releases resources, and deletes any temporary files created during the session\n",
    "\n",
    "## Advanced Jupyter Notebook Usage\n",
    "\n",
    "Don't worry if you don't understand this right now as we'll cover more later.\n",
    "\n",
    "Just be aware that starting a line with any of the following symbols has magic properties.\n",
    "\n",
    "| Symbol | Name           | Example            | Usage Explanation                                                                 |\n",
    "|--------|----------------|--------------------|-----------------------------------------------------------------------------------|\n",
    "| `!`    | Shell Command  | `!ls`              | Executes shell commands directly from the notebook cell, such as listing files.   |\n",
    "| `%`    | Line Magic     | `%cd sample_data`     | Executes a line magic command, affecting only the line it is on, like changing directories. |\n",
    "| `%%`   | Cell Magic     | `%%writefile test.txt` | Applies the magic command to the entire cell, such as writing the cell's content to a file. |"
   ]
  },
  {
   "cell_type": "code",
   "execution_count": 9,
   "metadata": {},
   "outputs": [
    {
     "name": "stderr",
     "output_type": "stream",
     "text": [
      "'ls' is not recognized as an internal or external command,\n",
      "operable program or batch file.\n"
     ]
    }
   ],
   "source": [
    "!ls"
   ]
  },
  {
   "cell_type": "code",
   "execution_count": 10,
   "metadata": {},
   "outputs": [
    {
     "name": "stdout",
     "output_type": "stream",
     "text": [
      "[WinError 2] Δεν είναι δυνατή η εύρεση του καθορισμένου αρχείου από το σύστημα: 'sample_data'\n",
      "c:\\Python_Data_Analytics_Course\\1_Basics\n"
     ]
    }
   ],
   "source": [
    "%cd sample_data"
   ]
  },
  {
   "cell_type": "code",
   "execution_count": 11,
   "metadata": {},
   "outputs": [
    {
     "name": "stderr",
     "output_type": "stream",
     "text": [
      "UsageError: %%writefile is a cell magic, but the cell body is empty.\n"
     ]
    }
   ],
   "source": [
    "%%writefile test.txt"
   ]
  }
 ],
 "metadata": {
  "kernelspec": {
   "display_name": "python_course",
   "language": "python",
   "name": "python3"
  },
  "language_info": {
   "codemirror_mode": {
    "name": "ipython",
    "version": 3
   },
   "file_extension": ".py",
   "mimetype": "text/x-python",
   "name": "python",
   "nbconvert_exporter": "python",
   "pygments_lexer": "ipython3",
   "version": "3.11.9"
  }
 },
 "nbformat": 4,
 "nbformat_minor": 2
}
