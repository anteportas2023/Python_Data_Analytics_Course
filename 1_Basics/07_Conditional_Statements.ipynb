{
 "cells": [
  {
   "cell_type": "markdown",
   "metadata": {},
   "source": [
    " [![Open In Colab](https://colab.research.google.com/assets/colab-badge.svg)](https://colab.research.google.com/github/lukebarousse/Python_Data_Analytics_Course/blob/main/1_Basics/01_Getting_Started.ipynb)"
   ]
  },
  {
   "cell_type": "markdown",
   "metadata": {},
   "source": [
    "# Conditional Statements\n",
    "\n",
    "## Overview\n",
    "\n",
    "### Notes \n",
    "\n",
    "`if`, `elif`, and `else` are conditional statements that control the flow of execution based on whether a condition is `True` or `False`.\n",
    "\n",
    "| **Part** | **Purpose**                     | **Condition Evaluated**           | **Action if True**                      |\n",
    "|----------|---------------------------------|-----------------------------------|-----------------------------------------|\n",
    "| `if`     | First condition check           | First condition to be evaluated   | Executes block if condition is true     |\n",
    "| `elif`   | Subsequent condition check      | Next condition, if `if` is false  | Executes block if this condition is true|\n",
    "| `else`   | Fallback if no conditions are met| None                             | Executes block if all above conditions are false |\n"
   ]
  },
  {
   "cell_type": "code",
   "execution_count": 1,
   "metadata": {},
   "outputs": [
    {
     "name": "stdout",
     "output_type": "stream",
     "text": [
      "What's Up Data Nerd\n"
     ]
    }
   ],
   "source": [
    "if True:\n",
    "    print(\"What's Up Data Nerd\")"
   ]
  },
  {
   "cell_type": "markdown",
   "metadata": {},
   "source": [
    "Here's another example that if the first condition is False. Then let's do something else."
   ]
  },
  {
   "cell_type": "code",
   "execution_count": 2,
   "metadata": {},
   "outputs": [
    {
     "name": "stdout",
     "output_type": "stream",
     "text": [
      "What's up Data Nerd\n"
     ]
    }
   ],
   "source": [
    "if False:\n",
    "    print(\"Hey Data Nerd\")\n",
    "else:\n",
    "    print(\"What's up Data Nerd\")"
   ]
  },
  {
   "cell_type": "markdown",
   "metadata": {},
   "source": [
    "\n",
    "#### If\n",
    "\n",
    "#### Notes\n",
    "\n",
    "if: Evaluates a condition. If the condition is true, the block of code under the if statement executes. If the condition is false, it skips this block.\n",
    "Example\n",
    "\n",
    "Let's see if our skill matches with a jobs required skills. We'll use one variable to represent the applicant's skill and another to represent the skill required for the job. Then we compare these variables using an if statement, to determine if the desired job matches the available job posting.\n",
    "\n",
    "First we will define a few variables:\n",
    "\n",
    "  -  The skill the applicant has is stored in the variable applicant_skill.\n",
    "  -  The skill required for the job posting is stored in the variable job_skill.\n",
    "  -  Initially, the result variable is set to indicate that there's no suitable job posting for the skills the applicant has.\n",
    "\n",
    "Explanation:\n",
    "\n",
    "  -  The code checks the desired applicant's skill matches the required skill for the data analyst job posting using an if statement.\n",
    "  -  If there is a match, the result variable is updated to indicate that the skill matches.\n",
    "  -  Finally, the result is printed out.\n",
    "\n"
   ]
  },
  {
   "cell_type": "code",
   "execution_count": 3,
   "metadata": {},
   "outputs": [],
   "source": [
    "# Applicant skill\n",
    "applicant_skill = 'SQL'\n",
    "\n",
    "# Skill required for job posting \n",
    "job_skill = 'SQL'\n",
    "\n",
    "# Initialize result: assigning a default value to indicate the search status for the skill.\n",
    "result = 'No Skills Match'"
   ]
  },
  {
   "cell_type": "markdown",
   "metadata": {},
   "source": [
    "\n",
    "\n",
    "🪲 **Debugging**\n",
    "\n",
    "**This is an intentional mistake**\n",
    "\n",
    "This is used to demonstrate debugging.\n",
    "\n",
    "Error: Using the wrong operator `=` for checking a condition\n",
    "\n",
    "```python\n",
    "if applicant_skill = job_skill:\n",
    "\n",
    "\n"
   ]
  },
  {
   "cell_type": "markdown",
   "metadata": {},
   "source": [
    "Steps to Debug:\n",
    "\n",
    "  1.  Look at the actual error, can you tell what the problem is?\n",
    "  2.  If not, then look it up paste in a Chatbot like ChatGPT or Claude\n"
   ]
  },
  {
   "cell_type": "code",
   "execution_count": 4,
   "metadata": {},
   "outputs": [
    {
     "ename": "SyntaxError",
     "evalue": "invalid syntax. Maybe you meant '==' or ':=' instead of '='? (3531373119.py, line 2)",
     "output_type": "error",
     "traceback": [
      "\u001b[1;36m  Cell \u001b[1;32mIn[4], line 2\u001b[1;36m\u001b[0m\n\u001b[1;33m    if applicant_skill = job_skill:\u001b[0m\n\u001b[1;37m       ^\u001b[0m\n\u001b[1;31mSyntaxError\u001b[0m\u001b[1;31m:\u001b[0m invalid syntax. Maybe you meant '==' or ':=' instead of '='?\n"
     ]
    }
   ],
   "source": [
    "# Check if the desired applicant skill matches the required skill for the job.\n",
    "if applicant_skill = job_skill:\n",
    "    result = 'Skills Match!'\n",
    "\n",
    "# Print the result \n",
    "result"
   ]
  },
  {
   "cell_type": "markdown",
   "metadata": {},
   "source": [
    "This is the correct code ✅."
   ]
  },
  {
   "cell_type": "code",
   "execution_count": 5,
   "metadata": {},
   "outputs": [
    {
     "data": {
      "text/plain": [
       "'Skill Match!'"
      ]
     },
     "execution_count": 5,
     "metadata": {},
     "output_type": "execute_result"
    }
   ],
   "source": [
    "# Check if the desired applicant skill matches the required skill for the job.\n",
    "if applicant_skill == job_skill:\n",
    "    result = 'Skill Match!'\n",
    "\n",
    "# Print the result \n",
    "result"
   ]
  },
  {
   "cell_type": "markdown",
   "metadata": {},
   "source": [
    "\n",
    "#### Elif\n",
    "\n",
    "#### Notes\n",
    "\n",
    "   - Elif: Follows an if or another elif statement. It's saying \"if the previous conditions were not true, then try this condition\". Or if the elif condition is true, its block executes.\n",
    "\n",
    "Example\n",
    "\n",
    "Now we're also going to add in a variable that will have the years of experience of Python someone has.\n",
    "\n",
    "  -  years_experience which is the years of experience that the applicant has for their skill (applicant_skill)\n",
    "\n",
    "Explanation:\n",
    "\n",
    "   - Checks if applicant_skill matches job_skill and if the specific conditions based on years_experience:\n",
    "       - Using if see if it's less than 2 years of experience with the skill, then it shows a Junior Data Analyst position.\n",
    "       - Using elif see if it's 2 to 5 years of experience with the skill, then it shows a Mid-level Data Analyst position.\n",
    "       - Using elif see if it's more than 5 years of experience with the skill, then it shows Senior Data Analyst position.\n",
    "   - Updates the result variable to reflect the matching job level.\n",
    "   - Outputs the final result.\n",
    "\n"
   ]
  },
  {
   "cell_type": "code",
   "execution_count": 6,
   "metadata": {},
   "outputs": [],
   "source": [
    "# Your details\n",
    "years_experience = 3  # An integer representing how many years of experience you have "
   ]
  },
  {
   "cell_type": "code",
   "execution_count": 7,
   "metadata": {},
   "outputs": [
    {
     "data": {
      "text/plain": [
       "'Mid-level Data Analyst position.'"
      ]
     },
     "execution_count": 7,
     "metadata": {},
     "output_type": "execute_result"
    }
   ],
   "source": [
    "# Check if your desired job skill matches the required skill and what position you can apply for based on your years of experience. \n",
    "if applicant_skill == job_skill and years_experience < 2:\n",
    "    result = 'Junior Data Analyst position.'\n",
    "elif applicant_skill == job_skill and years_experience <= 5:\n",
    "    result = 'Mid-level Data Analyst position.'\n",
    "elif applicant_skill == job_skill and years_experience > 5:\n",
    "    result = 'Senior Data Analyst position.'\n",
    "\n",
    "# Print the result to see which Data Analyst position matches your qualifications\n",
    "result"
   ]
  },
  {
   "cell_type": "markdown",
   "metadata": {},
   "source": [
    "\n",
    "#### Else\n",
    "\n",
    "#### Notes\n",
    "\n",
    "Else runs if anything before it doesn't run.\n",
    "\n",
    "Example\n",
    "\n",
    "Explanation:\n",
    "\n",
    "   - Checks if applicant_skill matches job_skill and if the specific conditions based on years_experience:\n",
    "      -  Must have at least 2 years of experience (years_experience >= 2).\n",
    "   - If the condition is met, updates the result variable to indicate that the experience and skill matches the requirements for the Data Analyst position.\n",
    "   - If the condition is not met, updates result to check the qualifications or the required skill for the Data Analyst position.\n",
    "   - Prints the result.\n",
    "\n"
   ]
  },
  {
   "cell_type": "code",
   "execution_count": 8,
   "metadata": {},
   "outputs": [
    {
     "data": {
      "text/plain": [
       "'Skill & Experience Match'"
      ]
     },
     "execution_count": 8,
     "metadata": {},
     "output_type": "execute_result"
    }
   ],
   "source": [
    "# Check if your desired job skill matches the required skill and if you are qualified for the position. \n",
    "if applicant_skill == job_skill and (years_experience >= 2):\n",
    "    result = 'Skill & Experience Match'\n",
    "else:\n",
    "    result = 'No Match Found'\n",
    "\n",
    "# Print the result to inform you of the outcome of your job search\n",
    "result"
   ]
  },
  {
   "cell_type": "markdown",
   "metadata": {},
   "source": [
    "\n",
    "#### Pass\n",
    "\n",
    "#### Notes\n",
    "\n",
    "   - If statements can't be empty, but if you have an if statement with nothing in it, you can use pass to avoid getting an error.\n",
    "\n",
    "Example\n",
    "\n",
    "  -  We create an if statement\n",
    "  -  Use pass within the statement, so it doesn't run an error\n",
    "\n"
   ]
  },
  {
   "cell_type": "code",
   "execution_count": 9,
   "metadata": {},
   "outputs": [
    {
     "ename": "SyntaxError",
     "evalue": "incomplete input (1938340812.py, line 2)",
     "output_type": "error",
     "traceback": [
      "\u001b[1;36m  Cell \u001b[1;32mIn[9], line 2\u001b[1;36m\u001b[0m\n\u001b[1;33m    if applicant_skill == job_skill:\u001b[0m\n\u001b[1;37m                                    ^\u001b[0m\n\u001b[1;31mSyntaxError\u001b[0m\u001b[1;31m:\u001b[0m incomplete input\n"
     ]
    }
   ],
   "source": [
    "# Without a pass it will return an error \n",
    "if applicant_skill == job_skill:"
   ]
  },
  {
   "cell_type": "code",
   "execution_count": 10,
   "metadata": {},
   "outputs": [],
   "source": [
    "# With a pass it won't return an error \n",
    "if applicant_skill == job_skill:\n",
    "    pass"
   ]
  },
  {
   "cell_type": "markdown",
   "metadata": {},
   "source": [
    "\n",
    "#### If, Elif, Else\n",
    "\n",
    "#### Notes\n",
    "\n",
    "  -  We can use if, elif, and else all together.\n",
    "  -  You can also have logical operators (e.g. and, or, not) which are used to combine conditional statements.\n",
    "\n",
    "Code Explanation\n",
    "\n",
    "  -  Checks if the applicant's desired job does not match the available job posting. If this is true:\n",
    "      -  Updates the result variable to suggest the applicant check the job position they are applying for or improve their Python skills.\n",
    "  -  If the desired job matches the job posting but has less than 2 years of experience:\n",
    "      -  Updates the result to indicate that more experience may be needed to qualify for the Data Analyst position.\n",
    "  -  If none of the above conditions are met:\n",
    "      -  Updates the result to show that the applicant's experience matches the requirements for the Data Analyst position.\n",
    "  -  Prints the result.\n",
    "\n"
   ]
  },
  {
   "cell_type": "markdown",
   "metadata": {},
   "source": [
    "\n",
    "\n",
    "🪲 **Debugging**\n",
    "\n",
    "**This is an intentional mistake**\n",
    "\n",
    "This is used to demonstrate debugging.\n",
    "\n",
    "Error: Misspelled the variable job_skill in the if statement.\n",
    "\n",
    "if applicant_skill != job_skil:\n",
    "\n",
    "Steps to Debug:\n",
    "\n",
    "  1.  Look at the actual error, can you tell what the problem is?\n",
    "  2.  If not, then look it up:\n",
    "  3.  Use a chatbot like ChatGPT or Claude\n",
    "  4.  Look it up using Google\n",
    "\n"
   ]
  },
  {
   "cell_type": "code",
   "execution_count": 11,
   "metadata": {},
   "outputs": [
    {
     "ename": "NameError",
     "evalue": "name 'job_skil' is not defined",
     "output_type": "error",
     "traceback": [
      "\u001b[1;31m---------------------------------------------------------------------------\u001b[0m",
      "\u001b[1;31mNameError\u001b[0m                                 Traceback (most recent call last)",
      "Cell \u001b[1;32mIn[11], line 2\u001b[0m\n\u001b[0;32m      1\u001b[0m \u001b[38;5;66;03m# Check if the applicant's skill matches the required skill of the job posting and they meet the experience requirement. \u001b[39;00m\n\u001b[1;32m----> 2\u001b[0m \u001b[38;5;28;01mif\u001b[39;00m applicant_skill \u001b[38;5;241m!=\u001b[39m \u001b[43mjob_skil\u001b[49m:\n\u001b[0;32m      3\u001b[0m     result \u001b[38;5;241m=\u001b[39m \u001b[38;5;124m'\u001b[39m\u001b[38;5;124mSkills still needed\u001b[39m\u001b[38;5;124m'\u001b[39m\n\u001b[0;32m      4\u001b[0m \u001b[38;5;28;01melif\u001b[39;00m applicant_skill\u001b[38;5;241m==\u001b[39m job_skill \u001b[38;5;129;01mand\u001b[39;00m years_experience \u001b[38;5;241m<\u001b[39m \u001b[38;5;241m2\u001b[39m:\n",
      "\u001b[1;31mNameError\u001b[0m: name 'job_skil' is not defined"
     ]
    }
   ],
   "source": [
    "# Check if the applicant's skill matches the required skill of the job posting and they meet the experience requirement. \n",
    "if applicant_skill != job_skil:\n",
    "    result = 'Skills still needed'\n",
    "elif applicant_skill== job_skill and years_experience < 2:\n",
    "    result = 'More experience needed'\n",
    "else:\n",
    "    result = 'Experience matches!'\n",
    "\n",
    "# Print the result\n",
    "result"
   ]
  },
  {
   "cell_type": "markdown",
   "metadata": {},
   "source": [
    "This is the correct code ✅."
   ]
  },
  {
   "cell_type": "code",
   "execution_count": 12,
   "metadata": {},
   "outputs": [
    {
     "data": {
      "text/plain": [
       "'Experience matches!'"
      ]
     },
     "execution_count": 12,
     "metadata": {},
     "output_type": "execute_result"
    }
   ],
   "source": [
    "# Check if the applicant's skill matches the required skill of the job posting and they meet the experience requirement. \n",
    "if applicant_skill != job_skill:\n",
    "    result = 'Skills still needed'\n",
    "elif applicant_skill== job_skill and years_experience < 2:\n",
    "    result = 'More experience needed'\n",
    "else:\n",
    "    result = 'Experience matches!'\n",
    "\n",
    "# Print the result\n",
    "result"
   ]
  }
 ],
 "metadata": {
  "kernelspec": {
   "display_name": "python_course",
   "language": "python",
   "name": "python3"
  },
  "language_info": {
   "codemirror_mode": {
    "name": "ipython",
    "version": 3
   },
   "file_extension": ".py",
   "mimetype": "text/x-python",
   "name": "python",
   "nbconvert_exporter": "python",
   "pygments_lexer": "ipython3",
   "version": "3.11.9"
  }
 },
 "nbformat": 4,
 "nbformat_minor": 2
}
